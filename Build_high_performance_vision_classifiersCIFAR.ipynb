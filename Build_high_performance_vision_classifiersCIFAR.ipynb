{
  "nbformat": 4,
  "nbformat_minor": 0,
  "metadata": {
    "colab": {
      "provenance": [],
      "gpuType": "T4"
    },
    "kernelspec": {
      "name": "python3",
      "display_name": "Python 3"
    },
    "language_info": {
      "name": "python"
    },
    "accelerator": "GPU",
    "gpuClass": "standard"
  },
  "cells": [
    {
      "cell_type": "markdown",
      "source": [
        "Load and preprocess the datasets (MNIST, Fashion MNIST, and CIFAR-10):\n",
        "python\n"
      ],
      "metadata": {
        "id": "GKHU13FWS8Kn"
      }
    },
    {
      "cell_type": "code",
      "execution_count": null,
      "metadata": {
        "colab": {
          "base_uri": "https://localhost:8080/"
        },
        "id": "b0YRw-gqQNqZ",
        "outputId": "e2fef0a7-d76c-4041-c233-5ad6245c68c5"
      },
      "outputs": [
        {
          "output_type": "stream",
          "name": "stdout",
          "text": [
            "Downloading data from https://www.cs.toronto.edu/~kriz/cifar-10-python.tar.gz\n",
            "170498071/170498071 [==============================] - 13s 0us/step\n"
          ]
        }
      ],
      "source": [
        "import numpy as np\n",
        "import tensorflow as tf\n",
        "from tensorflow.keras import layers, models\n",
        "from tensorflow.keras.utils import to_categorical\n",
        "\n",
        "def load_and_preprocess_data(dataset_name):\n",
        "    if dataset_name == 'mnist':\n",
        "        (x_train, y_train), (x_test, y_test) = tf.keras.datasets.mnist.load_data()\n",
        "    elif dataset_name == 'fashion_mnist':\n",
        "        (x_train, y_train), (x_test, y_test) = tf.keras.datasets.fashion_mnist.load_data()\n",
        "    elif dataset_name == 'cifar10':\n",
        "        (x_train, y_train), (x_test, y_test) = tf.keras.datasets.cifar10.load_data()\n",
        "    else:\n",
        "        raise ValueError(\"Invalid dataset name. Choose from 'mnist', 'fashion_mnist', or 'cifar10'.\")\n",
        "\n",
        "    x_train = x_train.astype('float32') / 255.0\n",
        "    x_test = x_test.astype('float32') / 255.0\n",
        "    y_train = to_categorical(y_train, 10)\n",
        "    y_test = to_categorical(y_test, 10)\n",
        "\n",
        "    if len(x_train.shape) < 4:  # If the dataset is grayscale, convert to RGB\n",
        "        x_train = np.repeat(x_train[..., np.newaxis], 3, axis=-1)\n",
        "        x_test = np.repeat(x_test[..., np.newaxis], 3, axis=-1)\n",
        "\n",
        "    return x_train, y_train, x_test, y_test\n",
        "\n",
        "dataset_name = \"cifar10\"  # Change this to 'fashion_mnist' or 'cifar10' for other datasets\n",
        "x_train, y_train, x_test, y_test = load_and_preprocess_data(dataset_name)\n"
      ]
    },
    {
      "cell_type": "markdown",
      "source": [
        "a) Use simple neural network as well as LeNet-5 - two architectures:"
      ],
      "metadata": {
        "id": "iYz1OvfuS_oa"
      }
    },
    {
      "cell_type": "code",
      "source": [
        "def simple_nn(input_shape, num_classes):\n",
        "    model = models.Sequential([\n",
        "        layers.Flatten(input_shape=input_shape),\n",
        "        layers.Dense(128, activation='relu'),\n",
        "        layers.Dense(num_classes, activation='softmax')\n",
        "    ])\n",
        "    return model\n",
        "\n",
        "def lenet_5(input_shape, num_classes):\n",
        "    model = models.Sequential([\n",
        "        layers.Conv2D(6, (5, 5), activation='relu', input_shape=input_shape),\n",
        "        layers.MaxPooling2D(pool_size=(2, 2)),\n",
        "        layers.Conv2D(16, (5, 5), activation='relu'),\n",
        "        layers.MaxPooling2D(pool_size=(2, 2)),\n",
        "        layers.Flatten(),\n",
        "        layers.Dense(120, activation='relu'),\n",
        "        layers.Dense(84, activation='relu'),\n",
        "        layers.Dense(num_classes, activation='softmax')\n",
        "    ])\n",
        "    return model\n",
        "\n",
        "input_shape = x_train.shape[1:]\n",
        "num_classes = 10\n",
        "\n",
        "for model_architecture in [simple_nn, lenet_5]:\n",
        "    model = model_architecture(input_shape, num_classes)\n",
        "    model.compile(optimizer='adam', loss='categorical_crossentropy', metrics=['accuracy'])\n",
        "    model.fit(x_train, y_train, epochs=10, batch_size=128, validation_split=0.2)\n",
        "    model_score = model.evaluate(x_test, y_test)\n",
        "    print(f\"{model_architecture.__name__} Test Loss:\", model_score[0])\n",
        "    print(f\"{model_architecture.__name__} Test Accuracy:\", model_score[1])\n"
      ],
      "metadata": {
        "colab": {
          "base_uri": "https://localhost:8080/"
        },
        "id": "83P-juekQQqy",
        "outputId": "199ac38e-e525-4911-f997-fb319810cbba"
      },
      "execution_count": null,
      "outputs": [
        {
          "output_type": "stream",
          "name": "stdout",
          "text": [
            "Epoch 1/10\n",
            "313/313 [==============================] - 6s 6ms/step - loss: 1.9742 - accuracy: 0.2928 - val_loss: 1.8363 - val_accuracy: 0.3534\n",
            "Epoch 2/10\n",
            "313/313 [==============================] - 1s 4ms/step - loss: 1.7951 - accuracy: 0.3611 - val_loss: 1.8028 - val_accuracy: 0.3560\n",
            "Epoch 3/10\n",
            "313/313 [==============================] - 1s 4ms/step - loss: 1.7388 - accuracy: 0.3853 - val_loss: 1.7279 - val_accuracy: 0.3933\n",
            "Epoch 4/10\n",
            "313/313 [==============================] - 1s 4ms/step - loss: 1.6956 - accuracy: 0.4018 - val_loss: 1.7211 - val_accuracy: 0.3994\n",
            "Epoch 5/10\n",
            "313/313 [==============================] - 1s 4ms/step - loss: 1.6666 - accuracy: 0.4130 - val_loss: 1.6699 - val_accuracy: 0.4144\n",
            "Epoch 6/10\n",
            "313/313 [==============================] - 2s 5ms/step - loss: 1.6366 - accuracy: 0.4221 - val_loss: 1.6614 - val_accuracy: 0.4183\n",
            "Epoch 7/10\n",
            "313/313 [==============================] - 1s 4ms/step - loss: 1.6249 - accuracy: 0.4269 - val_loss: 1.6499 - val_accuracy: 0.4209\n",
            "Epoch 8/10\n",
            "313/313 [==============================] - 1s 4ms/step - loss: 1.6023 - accuracy: 0.4352 - val_loss: 1.6623 - val_accuracy: 0.4054\n",
            "Epoch 9/10\n",
            "313/313 [==============================] - 1s 4ms/step - loss: 1.5931 - accuracy: 0.4393 - val_loss: 1.6559 - val_accuracy: 0.4178\n",
            "Epoch 10/10\n",
            "313/313 [==============================] - 1s 4ms/step - loss: 1.5833 - accuracy: 0.4411 - val_loss: 1.6236 - val_accuracy: 0.4292\n",
            "313/313 [==============================] - 1s 2ms/step - loss: 1.6022 - accuracy: 0.4314\n",
            "simple_nn Test Loss: 1.6022454500198364\n",
            "simple_nn Test Accuracy: 0.43140000104904175\n",
            "Epoch 1/10\n",
            "313/313 [==============================] - 9s 8ms/step - loss: 1.7713 - accuracy: 0.3532 - val_loss: 1.5476 - val_accuracy: 0.4360\n",
            "Epoch 2/10\n",
            "313/313 [==============================] - 2s 5ms/step - loss: 1.4635 - accuracy: 0.4697 - val_loss: 1.4324 - val_accuracy: 0.4879\n",
            "Epoch 3/10\n",
            "313/313 [==============================] - 2s 5ms/step - loss: 1.3649 - accuracy: 0.5101 - val_loss: 1.3267 - val_accuracy: 0.5289\n",
            "Epoch 4/10\n",
            "313/313 [==============================] - 3s 8ms/step - loss: 1.3009 - accuracy: 0.5367 - val_loss: 1.2866 - val_accuracy: 0.5509\n",
            "Epoch 5/10\n",
            "313/313 [==============================] - 2s 6ms/step - loss: 1.2338 - accuracy: 0.5602 - val_loss: 1.2463 - val_accuracy: 0.5611\n",
            "Epoch 6/10\n",
            "313/313 [==============================] - 2s 7ms/step - loss: 1.1949 - accuracy: 0.5762 - val_loss: 1.2166 - val_accuracy: 0.5745\n",
            "Epoch 7/10\n",
            "313/313 [==============================] - 2s 6ms/step - loss: 1.1615 - accuracy: 0.5881 - val_loss: 1.1997 - val_accuracy: 0.5798\n",
            "Epoch 8/10\n",
            "313/313 [==============================] - 2s 6ms/step - loss: 1.1222 - accuracy: 0.6053 - val_loss: 1.1818 - val_accuracy: 0.5845\n",
            "Epoch 9/10\n",
            "313/313 [==============================] - 2s 6ms/step - loss: 1.0889 - accuracy: 0.6170 - val_loss: 1.1618 - val_accuracy: 0.5938\n",
            "Epoch 10/10\n",
            "313/313 [==============================] - 2s 7ms/step - loss: 1.0592 - accuracy: 0.6274 - val_loss: 1.1533 - val_accuracy: 0.5964\n",
            "313/313 [==============================] - 1s 3ms/step - loss: 1.1566 - accuracy: 0.5933\n",
            "lenet_5 Test Loss: 1.156580924987793\n",
            "lenet_5 Test Accuracy: 0.5932999849319458\n"
          ]
        }
      ]
    },
    {
      "cell_type": "code",
      "source": [
        "!pip install tensorflow-addons\n"
      ],
      "metadata": {
        "colab": {
          "base_uri": "https://localhost:8080/"
        },
        "id": "uIoM0o3KSAg1",
        "outputId": "d5caeaf1-3cc9-4e1b-ec61-18cf8904f8e5"
      },
      "execution_count": null,
      "outputs": [
        {
          "output_type": "stream",
          "name": "stdout",
          "text": [
            "Looking in indexes: https://pypi.org/simple, https://us-python.pkg.dev/colab-wheels/public/simple/\n",
            "Collecting tensorflow-addons\n",
            "  Downloading tensorflow_addons-0.20.0-cp310-cp310-manylinux_2_17_x86_64.manylinux2014_x86_64.whl (591 kB)\n",
            "\u001b[2K     \u001b[90m━━━━━━━━━━━━━━━━━━━━━━━━━━━━━━━━━━━━━━\u001b[0m \u001b[32m591.0/591.0 kB\u001b[0m \u001b[31m41.2 MB/s\u001b[0m eta \u001b[36m0:00:00\u001b[0m\n",
            "\u001b[?25hCollecting typeguard<3.0.0,>=2.7\n",
            "  Downloading typeguard-2.13.3-py3-none-any.whl (17 kB)\n",
            "Requirement already satisfied: packaging in /usr/local/lib/python3.10/dist-packages (from tensorflow-addons) (23.1)\n",
            "Installing collected packages: typeguard, tensorflow-addons\n",
            "Successfully installed tensorflow-addons-0.20.0 typeguard-2.13.3\n"
          ]
        }
      ]
    },
    {
      "cell_type": "markdown",
      "source": [
        "b) Demonstrate pretrained model with transfer learning (both EfficientNet and BiT):\n",
        "\n"
      ],
      "metadata": {
        "id": "uUYLKgC7TB_r"
      }
    },
    {
      "cell_type": "code",
      "source": [
        "# 1. Install necessary libraries\n",
        "!pip install -U tensorflow\n",
        "!pip install tensorflow_hub\n",
        "\n",
        "# 2. Import libraries\n",
        "import tensorflow as tf\n",
        "import tensorflow_hub as hub\n",
        "import numpy as np\n",
        "from tensorflow.keras.layers import Dense, GlobalAveragePooling2D\n",
        "from tensorflow.keras.models import Model\n",
        "\n",
        "# 3. Load and preprocess the CIFAR-10 dataset\n",
        "(x_train, y_train), (x_test, y_test) = tf.keras.datasets.cifar10.load_data()\n",
        "\n",
        "def preprocess_data(images, labels):\n",
        "    images = images.astype(\"float32\") / 255.0\n",
        "    labels = tf.keras.utils.to_categorical(labels, 10)\n",
        "    return images, labels\n",
        "\n",
        "x_train, y_train = preprocess_data(x_train, y_train)\n",
        "x_test, y_test = preprocess_data(x_test, y_test)\n",
        "\n",
        "# 4. Load pre-trained models (EfficientNet and BiT)\n",
        "efficientnet_url = \"https://tfhub.dev/tensorflow/efficientnet/b0/feature-vector/1\"\n",
        "bit_url = \"https://tfhub.dev/google/bit/m-r50x1/1\"\n",
        "\n",
        "def create_model(model_url, input_shape, num_classes):\n",
        "    model = tf.keras.Sequential([\n",
        "        tf.keras.layers.InputLayer(input_shape=input_shape),\n",
        "        hub.KerasLayer(model_url, trainable=True),\n",
        "        Dense(num_classes, activation='softmax')\n",
        "    ])\n",
        "    return model\n",
        "\n",
        "efficientnet_model = create_model(efficientnet_url, (32, 32, 3), 10)\n",
        "bit_model = create_model(bit_url, (32, 32, 3), 10)\n",
        "\n",
        "# 5. Fine-tune the models\n",
        "efficientnet_model.compile(optimizer=tf.keras.optimizers.Adam(learning_rate=0.001),\n",
        "                           loss='categorical_crossentropy',\n",
        "                           metrics=['accuracy'])\n",
        "\n",
        "bit_model.compile(optimizer=tf.keras.optimizers.Adam(learning_rate=0.001),\n",
        "                  loss='categorical_crossentropy',\n",
        "                  metrics=['accuracy'])\n",
        "\n",
        "print(\"Training EfficientNet...\")\n",
        "efficientnet_history = efficientnet_model.fit(x_train, y_train, batch_size=64, epochs=2, validation_split=0.1)\n",
        "\n",
        "print(\"\\nTraining BiT...\")\n",
        "bit_history = bit_model.fit(x_train, y_train, batch_size=64, epochs=2, validation_split=0.1)\n",
        "\n",
        "# 6. Evaluate the models\n",
        "efficientnet_score = efficientnet_model.evaluate(x_test, y_test, verbose=0)\n",
        "print(\"\\nEfficientNet Test loss:\", efficientnet_score[0])\n",
        "print(\"EfficientNet Test accuracy:\", efficientnet_score[1])\n",
        "\n",
        "bit_score = bit_model.evaluate(x_test, y_test, verbose=0)\n",
        "print(\"\\nBiT Test loss:\", bit_score[0])\n",
        "print(\"BiT Test accuracy:\", bit_score[1])\n"
      ],
      "metadata": {
        "colab": {
          "base_uri": "https://localhost:8080/"
        },
        "id": "au2ok1AmQj82",
        "outputId": "ef343703-15f7-4d5e-c6cd-d31aed6ef672"
      },
      "execution_count": null,
      "outputs": [
        {
          "output_type": "stream",
          "name": "stdout",
          "text": [
            "Looking in indexes: https://pypi.org/simple, https://us-python.pkg.dev/colab-wheels/public/simple/\n",
            "Requirement already satisfied: tensorflow in /usr/local/lib/python3.10/dist-packages (2.12.0)\n",
            "Requirement already satisfied: tensorflow-estimator<2.13,>=2.12.0 in /usr/local/lib/python3.10/dist-packages (from tensorflow) (2.12.0)\n",
            "Requirement already satisfied: tensorflow-io-gcs-filesystem>=0.23.1 in /usr/local/lib/python3.10/dist-packages (from tensorflow) (0.32.0)\n",
            "Requirement already satisfied: numpy<1.24,>=1.22 in /usr/local/lib/python3.10/dist-packages (from tensorflow) (1.22.4)\n",
            "Requirement already satisfied: protobuf!=4.21.0,!=4.21.1,!=4.21.2,!=4.21.3,!=4.21.4,!=4.21.5,<5.0.0dev,>=3.20.3 in /usr/local/lib/python3.10/dist-packages (from tensorflow) (3.20.3)\n",
            "Requirement already satisfied: opt-einsum>=2.3.2 in /usr/local/lib/python3.10/dist-packages (from tensorflow) (3.3.0)\n",
            "Requirement already satisfied: absl-py>=1.0.0 in /usr/local/lib/python3.10/dist-packages (from tensorflow) (1.4.0)\n",
            "Requirement already satisfied: jax>=0.3.15 in /usr/local/lib/python3.10/dist-packages (from tensorflow) (0.4.8)\n",
            "Requirement already satisfied: keras<2.13,>=2.12.0 in /usr/local/lib/python3.10/dist-packages (from tensorflow) (2.12.0)\n",
            "Requirement already satisfied: google-pasta>=0.1.1 in /usr/local/lib/python3.10/dist-packages (from tensorflow) (0.2.0)\n",
            "Requirement already satisfied: setuptools in /usr/local/lib/python3.10/dist-packages (from tensorflow) (67.7.2)\n",
            "Requirement already satisfied: h5py>=2.9.0 in /usr/local/lib/python3.10/dist-packages (from tensorflow) (3.8.0)\n",
            "Requirement already satisfied: termcolor>=1.1.0 in /usr/local/lib/python3.10/dist-packages (from tensorflow) (2.3.0)\n",
            "Requirement already satisfied: gast<=0.4.0,>=0.2.1 in /usr/local/lib/python3.10/dist-packages (from tensorflow) (0.4.0)\n",
            "Requirement already satisfied: flatbuffers>=2.0 in /usr/local/lib/python3.10/dist-packages (from tensorflow) (23.3.3)\n",
            "Requirement already satisfied: astunparse>=1.6.0 in /usr/local/lib/python3.10/dist-packages (from tensorflow) (1.6.3)\n",
            "Requirement already satisfied: typing-extensions>=3.6.6 in /usr/local/lib/python3.10/dist-packages (from tensorflow) (4.5.0)\n",
            "Requirement already satisfied: wrapt<1.15,>=1.11.0 in /usr/local/lib/python3.10/dist-packages (from tensorflow) (1.14.1)\n",
            "Requirement already satisfied: tensorboard<2.13,>=2.12 in /usr/local/lib/python3.10/dist-packages (from tensorflow) (2.12.2)\n",
            "Requirement already satisfied: grpcio<2.0,>=1.24.3 in /usr/local/lib/python3.10/dist-packages (from tensorflow) (1.54.0)\n",
            "Requirement already satisfied: six>=1.12.0 in /usr/local/lib/python3.10/dist-packages (from tensorflow) (1.16.0)\n",
            "Requirement already satisfied: packaging in /usr/local/lib/python3.10/dist-packages (from tensorflow) (23.1)\n",
            "Requirement already satisfied: libclang>=13.0.0 in /usr/local/lib/python3.10/dist-packages (from tensorflow) (16.0.0)\n",
            "Requirement already satisfied: wheel<1.0,>=0.23.0 in /usr/local/lib/python3.10/dist-packages (from astunparse>=1.6.0->tensorflow) (0.40.0)\n",
            "Requirement already satisfied: ml-dtypes>=0.0.3 in /usr/local/lib/python3.10/dist-packages (from jax>=0.3.15->tensorflow) (0.1.0)\n",
            "Requirement already satisfied: scipy>=1.7 in /usr/local/lib/python3.10/dist-packages (from jax>=0.3.15->tensorflow) (1.10.1)\n",
            "Requirement already satisfied: werkzeug>=1.0.1 in /usr/local/lib/python3.10/dist-packages (from tensorboard<2.13,>=2.12->tensorflow) (2.3.0)\n",
            "Requirement already satisfied: requests<3,>=2.21.0 in /usr/local/lib/python3.10/dist-packages (from tensorboard<2.13,>=2.12->tensorflow) (2.27.1)\n",
            "Requirement already satisfied: markdown>=2.6.8 in /usr/local/lib/python3.10/dist-packages (from tensorboard<2.13,>=2.12->tensorflow) (3.4.3)\n",
            "Requirement already satisfied: tensorboard-data-server<0.8.0,>=0.7.0 in /usr/local/lib/python3.10/dist-packages (from tensorboard<2.13,>=2.12->tensorflow) (0.7.0)\n",
            "Requirement already satisfied: tensorboard-plugin-wit>=1.6.0 in /usr/local/lib/python3.10/dist-packages (from tensorboard<2.13,>=2.12->tensorflow) (1.8.1)\n",
            "Requirement already satisfied: google-auth-oauthlib<1.1,>=0.5 in /usr/local/lib/python3.10/dist-packages (from tensorboard<2.13,>=2.12->tensorflow) (1.0.0)\n",
            "Requirement already satisfied: google-auth<3,>=1.6.3 in /usr/local/lib/python3.10/dist-packages (from tensorboard<2.13,>=2.12->tensorflow) (2.17.3)\n",
            "Requirement already satisfied: rsa<5,>=3.1.4 in /usr/local/lib/python3.10/dist-packages (from google-auth<3,>=1.6.3->tensorboard<2.13,>=2.12->tensorflow) (4.9)\n",
            "Requirement already satisfied: pyasn1-modules>=0.2.1 in /usr/local/lib/python3.10/dist-packages (from google-auth<3,>=1.6.3->tensorboard<2.13,>=2.12->tensorflow) (0.3.0)\n",
            "Requirement already satisfied: cachetools<6.0,>=2.0.0 in /usr/local/lib/python3.10/dist-packages (from google-auth<3,>=1.6.3->tensorboard<2.13,>=2.12->tensorflow) (5.3.0)\n",
            "Requirement already satisfied: requests-oauthlib>=0.7.0 in /usr/local/lib/python3.10/dist-packages (from google-auth-oauthlib<1.1,>=0.5->tensorboard<2.13,>=2.12->tensorflow) (1.3.1)\n",
            "Requirement already satisfied: certifi>=2017.4.17 in /usr/local/lib/python3.10/dist-packages (from requests<3,>=2.21.0->tensorboard<2.13,>=2.12->tensorflow) (2022.12.7)\n",
            "Requirement already satisfied: idna<4,>=2.5 in /usr/local/lib/python3.10/dist-packages (from requests<3,>=2.21.0->tensorboard<2.13,>=2.12->tensorflow) (3.4)\n",
            "Requirement already satisfied: charset-normalizer~=2.0.0 in /usr/local/lib/python3.10/dist-packages (from requests<3,>=2.21.0->tensorboard<2.13,>=2.12->tensorflow) (2.0.12)\n",
            "Requirement already satisfied: urllib3<1.27,>=1.21.1 in /usr/local/lib/python3.10/dist-packages (from requests<3,>=2.21.0->tensorboard<2.13,>=2.12->tensorflow) (1.26.15)\n",
            "Requirement already satisfied: MarkupSafe>=2.1.1 in /usr/local/lib/python3.10/dist-packages (from werkzeug>=1.0.1->tensorboard<2.13,>=2.12->tensorflow) (2.1.2)\n",
            "Requirement already satisfied: pyasn1<0.6.0,>=0.4.6 in /usr/local/lib/python3.10/dist-packages (from pyasn1-modules>=0.2.1->google-auth<3,>=1.6.3->tensorboard<2.13,>=2.12->tensorflow) (0.5.0)\n",
            "Requirement already satisfied: oauthlib>=3.0.0 in /usr/local/lib/python3.10/dist-packages (from requests-oauthlib>=0.7.0->google-auth-oauthlib<1.1,>=0.5->tensorboard<2.13,>=2.12->tensorflow) (3.2.2)\n",
            "Looking in indexes: https://pypi.org/simple, https://us-python.pkg.dev/colab-wheels/public/simple/\n",
            "Requirement already satisfied: tensorflow_hub in /usr/local/lib/python3.10/dist-packages (0.13.0)\n",
            "Requirement already satisfied: protobuf>=3.19.6 in /usr/local/lib/python3.10/dist-packages (from tensorflow_hub) (3.20.3)\n",
            "Requirement already satisfied: numpy>=1.12.0 in /usr/local/lib/python3.10/dist-packages (from tensorflow_hub) (1.22.4)\n",
            "Training EfficientNet...\n",
            "Epoch 1/2\n",
            "704/704 [==============================] - 101s 70ms/step - loss: 1.1498 - accuracy: 0.6580 - val_loss: 0.8029 - val_accuracy: 0.7712\n",
            "Epoch 2/2\n",
            "704/704 [==============================] - 46s 66ms/step - loss: 0.7707 - accuracy: 0.7877 - val_loss: 0.7321 - val_accuracy: 0.7914\n",
            "\n",
            "Training BiT...\n",
            "Epoch 1/2\n",
            "704/704 [==============================] - 107s 89ms/step - loss: 1.4547 - accuracy: 0.5507 - val_loss: 0.9469 - val_accuracy: 0.6950\n",
            "Epoch 2/2\n",
            "704/704 [==============================] - 59s 84ms/step - loss: 0.7052 - accuracy: 0.7648 - val_loss: 0.7609 - val_accuracy: 0.7484\n",
            "\n",
            "EfficientNet Test loss: 0.7671329975128174\n",
            "EfficientNet Test accuracy: 0.784500002861023\n",
            "\n",
            "BiT Test loss: 0.7712482213973999\n",
            "BiT Test accuracy: 0.7498000264167786\n"
          ]
        }
      ]
    },
    {
      "cell_type": "markdown",
      "source": [
        "c) Demonstrate image augmentation:"
      ],
      "metadata": {
        "id": "LzRZqxn3TJYk"
      }
    },
    {
      "cell_type": "code",
      "source": [
        "from tensorflow.keras.datasets import cifar10\n",
        "from tensorflow.keras.preprocessing.image import ImageDataGenerator\n",
        "from tensorflow.keras.utils import to_categorical\n",
        "from tensorflow.keras import layers, models\n",
        "\n",
        "(x_train, y_train), (x_test, y_test) = cifar10.load_data()\n",
        "\n",
        "datagen = ImageDataGenerator(\n",
        "    rotation_range=10,\n",
        "    width_shift_range=0.1,\n",
        "    height_shift_range=0.1,\n",
        "    zoom_range=0.1,\n",
        "    horizontal_flip=True\n",
        ")\n",
        "\n",
        "model = models.Sequential([\n",
        "    layers.InputLayer(input_shape=(32, 32, 3)),\n",
        "    layers.experimental.preprocessing.Rescaling(1./255),\n",
        "    layers.Conv2D(32, (3, 3), activation='relu', padding='same'),\n",
        "    layers.MaxPooling2D((2, 2)),\n",
        "    layers.Flatten(),\n",
        "    layers.Dense(128, activation='relu'),\n",
        "    layers.Dense(10, activation='softmax')\n",
        "])\n",
        "\n",
        "model.compile(optimizer='adam', loss='categorical_crossentropy', metrics=['accuracy'])\n",
        "\n",
        "datagen.fit(x_train)\n",
        "\n",
        "y_train = to_categorical(y_train)\n",
        "y_test = to_categorical(y_test)\n",
        "\n",
        "model.fit(datagen.flow(x_train, y_train, batch_size=32), epochs=1, validation_data=(x_test, y_test))\n"
      ],
      "metadata": {
        "colab": {
          "base_uri": "https://localhost:8080/"
        },
        "id": "9f6ou1qJjZza",
        "outputId": "eceb1e7d-7f53-4357-f348-7a68c176b245"
      },
      "execution_count": null,
      "outputs": [
        {
          "output_type": "stream",
          "name": "stdout",
          "text": [
            "1563/1563 [==============================] - 33s 20ms/step - loss: 1.5840 - accuracy: 0.4304 - val_loss: 1.3383 - val_accuracy: 0.5311\n"
          ]
        },
        {
          "output_type": "execute_result",
          "data": {
            "text/plain": [
              "<keras.callbacks.History at 0x7f037d71c640>"
            ]
          },
          "metadata": {},
          "execution_count": 9
        }
      ]
    },
    {
      "cell_type": "code",
      "source": [
        "import matplotlib.pyplot as plt\n",
        "\n",
        "# Generate some augmented images\n",
        "augmented_images = datagen.flow(x_train, y_train, batch_size=1)\n",
        "\n",
        "# Display the first 9 augmented images\n",
        "fig, axs = plt.subplots(3, 3, figsize=(8, 8))\n",
        "axs = axs.ravel()\n",
        "for i in range(9):\n",
        "    image, label = augmented_images.next()\n",
        "    axs[i].imshow(image[0] / 255.0)  # Divide pixel values by 255\n",
        "    axs[i].set_title(f\"Label: {label.argmax()}\")\n",
        "    axs[i].axis('off')\n",
        "\n",
        "plt.show()\n"
      ],
      "metadata": {
        "colab": {
          "base_uri": "https://localhost:8080/",
          "height": 675
        },
        "id": "pP-NfTiPFsSn",
        "outputId": "b1656842-a3fd-4750-b23e-f7e6ce9240f2"
      },
      "execution_count": null,
      "outputs": [
        {
          "output_type": "display_data",
          "data": {
            "text/plain": [
              "<Figure size 800x800 with 9 Axes>"
            ],
            "image/png": "[encoded data removed]"
          },
          "metadata": {}
        }
      ]
    },
    {
      "cell_type": "markdown",
      "source": [
        "d) demonstrate with state of art image models - mlp-mixer"
      ],
      "metadata": {
        "id": "R35-V_p4Dlnx"
      }
    },
    {
      "cell_type": "code",
      "source": [
        "!pip install tensorflow-addons\n"
      ],
      "metadata": {
        "colab": {
          "base_uri": "https://localhost:8080/"
        },
        "id": "OAoy70_QLwFd",
        "outputId": "5d6067eb-dbc1-44a7-95d1-487106dbbd3e"
      },
      "execution_count": null,
      "outputs": [
        {
          "output_type": "stream",
          "name": "stdout",
          "text": [
            "Looking in indexes: https://pypi.org/simple, https://us-python.pkg.dev/colab-wheels/public/simple/\n",
            "Requirement already satisfied: tensorflow-addons in /usr/local/lib/python3.10/dist-packages (0.20.0)\n",
            "Requirement already satisfied: packaging in /usr/local/lib/python3.10/dist-packages (from tensorflow-addons) (23.1)\n",
            "Requirement already satisfied: typeguard<3.0.0,>=2.7 in /usr/local/lib/python3.10/dist-packages (from tensorflow-addons) (2.13.3)\n"
          ]
        }
      ]
    },
    {
      "cell_type": "code",
      "source": [
        "import numpy as np\n",
        "import tensorflow as tf\n",
        "from tensorflow import keras\n",
        "from tensorflow.keras import layers\n",
        "import tensorflow_addons as tfa"
      ],
      "metadata": {
        "colab": {
          "base_uri": "https://localhost:8080/"
        },
        "id": "JmSj3PP2LL4a",
        "outputId": "f662fc6a-8fb7-455e-e644-ef0c541eea33"
      },
      "execution_count": null,
      "outputs": [
        {
          "output_type": "stream",
          "name": "stderr",
          "text": [
            "/usr/local/lib/python3.10/dist-packages/tensorflow_addons/utils/tfa_eol_msg.py:23: UserWarning: \n",
            "\n",
            "TensorFlow Addons (TFA) has ended development and introduction of new features.\n",
            "TFA has entered a minimal maintenance and release mode until a planned end of life in May 2024.\n",
            "Please modify downstream libraries to take dependencies from other repositories in our TensorFlow community (e.g. Keras, Keras-CV, and Keras-NLP). \n",
            "\n",
            "For more information see: https://github.com/tensorflow/addons/issues/2807 \n",
            "\n",
            "  warnings.warn(\n"
          ]
        }
      ]
    },
    {
      "cell_type": "code",
      "source": [
        "# 1. Install necessary libraries\n",
        "!pip install tensorflow-addons\n",
        "!pip install -U tensorflow\n",
        "\n",
        "# 2. Import libraries\n",
        "import numpy as np\n",
        "import tensorflow as tf\n",
        "from tensorflow import keras\n",
        "from tensorflow.keras import layers\n",
        "import tensorflow_addons as tfa\n",
        "\n",
        "# 3. Load and preprocess the cifar10 dataset\n",
        "(x_train, y_train), (x_test, y_test) = keras.datasets.cifar10.load_data()\n",
        "\n",
        "x_train = x_train.astype(\"float32\") / 255\n",
        "x_test = x_test.astype(\"float32\") / 255\n",
        "\n",
        "\n",
        "y_train = keras.utils.to_categorical(y_train, 10)\n",
        "y_test = keras.utils.to_categorical(y_test, 10)\n",
        "\n",
        "# 4. Implement the MLP-Mixer model\n",
        "def mlp_block(units, dropout_rate=0.1):\n",
        "    return keras.Sequential([\n",
        "        layers.Dense(units, activation=tf.nn.gelu),\n",
        "        layers.Dropout(dropout_rate),\n",
        "    ])\n",
        "\n",
        "def mixer_block(hidden_dim, num_patches, dropout_rate=0.1):\n",
        "    return keras.Sequential([\n",
        "        layers.LayerNormalization(),\n",
        "        layers.Dense(num_patches, use_bias=False),\n",
        "        layers.Activation(tf.nn.gelu),\n",
        "        layers.Dropout(dropout_rate),\n",
        "        layers.LayerNormalization(),\n",
        "        layers.Dense(hidden_dim, use_bias=False),\n",
        "        layers.Dropout(dropout_rate),\n",
        "    ])\n",
        "\n",
        "def mlp_mixer(input_shape, hidden_dim, num_blocks, patch_size, dropout_rate=0.1):\n",
        "    inputs = keras.Input(shape=input_shape)\n",
        "    \n",
        "    # Extract the patches from the input tensor\n",
        "    x = layers.Conv2D(hidden_dim, kernel_size=patch_size, strides=patch_size, use_bias=False)(inputs)\n",
        "    x = layers.Reshape((-1, hidden_dim))(x)\n",
        "    \n",
        "    for _ in range(num_blocks):\n",
        "        x = layers.Add()([x, mlp_block(hidden_dim)(mixer_block(hidden_dim, x.shape[1])(x))])\n",
        "\n",
        "    x = layers.LayerNormalization()(x)\n",
        "    x = layers.GlobalAveragePooling1D()(x)\n",
        "    outputs = layers.Dense(10, activation='softmax')(x)\n",
        "\n",
        "    return keras.Model(inputs=inputs, outputs=outputs)\n",
        "\n",
        "\n",
        "\n",
        "# 5. Train the model\n",
        "input_shape = (32, 32, 3)\n",
        "hidden_dim = 64\n",
        "num_blocks = 8\n",
        "patch_size = 4  # Change this line to a value that divides the input shape\n",
        "\n",
        "model = mlp_mixer(input_shape, hidden_dim, num_blocks, patch_size)\n",
        "\n",
        "model.compile(optimizer=tfa.optimizers.AdamW(learning_rate=0.001, weight_decay=1e-4),\n",
        "              loss='categorical_crossentropy',\n",
        "              metrics=['accuracy'])\n",
        "\n",
        "model.fit(x_train, y_train, batch_size=256, epochs=2, validation_split=0.1)\n",
        "\n",
        "# 6. Evaluate the model\n",
        "score = model.evaluate(x_test, y_test, verbose=0)\n",
        "print(\"Test loss:\", score[0])\n",
        "print(\"Test accuracy:\", score[1])\n"
      ],
      "metadata": {
        "colab": {
          "base_uri": "https://localhost:8080/"
        },
        "id": "xt7eIRawLCDR",
        "outputId": "d4d1885a-9608-4ccf-f9c4-8811d43bc27c"
      },
      "execution_count": null,
      "outputs": [
        {
          "output_type": "stream",
          "name": "stdout",
          "text": [
            "Looking in indexes: https://pypi.org/simple, https://us-python.pkg.dev/colab-wheels/public/simple/\n",
            "Requirement already satisfied: tensorflow-addons in /usr/local/lib/python3.10/dist-packages (0.20.0)\n",
            "Requirement already satisfied: typeguard<3.0.0,>=2.7 in /usr/local/lib/python3.10/dist-packages (from tensorflow-addons) (2.13.3)\n",
            "Requirement already satisfied: packaging in /usr/local/lib/python3.10/dist-packages (from tensorflow-addons) (23.1)\n",
            "Looking in indexes: https://pypi.org/simple, https://us-python.pkg.dev/colab-wheels/public/simple/\n",
            "Requirement already satisfied: tensorflow in /usr/local/lib/python3.10/dist-packages (2.12.0)\n",
            "Requirement already satisfied: google-pasta>=0.1.1 in /usr/local/lib/python3.10/dist-packages (from tensorflow) (0.2.0)\n",
            "Requirement already satisfied: keras<2.13,>=2.12.0 in /usr/local/lib/python3.10/dist-packages (from tensorflow) (2.12.0)\n",
            "Requirement already satisfied: setuptools in /usr/local/lib/python3.10/dist-packages (from tensorflow) (67.7.2)\n",
            "Requirement already satisfied: typing-extensions>=3.6.6 in /usr/local/lib/python3.10/dist-packages (from tensorflow) (4.5.0)\n",
            "Requirement already satisfied: absl-py>=1.0.0 in /usr/local/lib/python3.10/dist-packages (from tensorflow) (1.4.0)\n",
            "Requirement already satisfied: tensorflow-estimator<2.13,>=2.12.0 in /usr/local/lib/python3.10/dist-packages (from tensorflow) (2.12.0)\n",
            "Requirement already satisfied: gast<=0.4.0,>=0.2.1 in /usr/local/lib/python3.10/dist-packages (from tensorflow) (0.4.0)\n",
            "Requirement already satisfied: tensorboard<2.13,>=2.12 in /usr/local/lib/python3.10/dist-packages (from tensorflow) (2.12.2)\n",
            "Requirement already satisfied: six>=1.12.0 in /usr/local/lib/python3.10/dist-packages (from tensorflow) (1.16.0)\n",
            "Requirement already satisfied: numpy<1.24,>=1.22 in /usr/local/lib/python3.10/dist-packages (from tensorflow) (1.22.4)\n",
            "Requirement already satisfied: jax>=0.3.15 in /usr/local/lib/python3.10/dist-packages (from tensorflow) (0.4.8)\n",
            "Requirement already satisfied: h5py>=2.9.0 in /usr/local/lib/python3.10/dist-packages (from tensorflow) (3.8.0)\n",
            "Requirement already satisfied: libclang>=13.0.0 in /usr/local/lib/python3.10/dist-packages (from tensorflow) (16.0.0)\n",
            "Requirement already satisfied: opt-einsum>=2.3.2 in /usr/local/lib/python3.10/dist-packages (from tensorflow) (3.3.0)\n",
            "Requirement already satisfied: wrapt<1.15,>=1.11.0 in /usr/local/lib/python3.10/dist-packages (from tensorflow) (1.14.1)\n",
            "Requirement already satisfied: packaging in /usr/local/lib/python3.10/dist-packages (from tensorflow) (23.1)\n",
            "Requirement already satisfied: grpcio<2.0,>=1.24.3 in /usr/local/lib/python3.10/dist-packages (from tensorflow) (1.54.0)\n",
            "Requirement already satisfied: flatbuffers>=2.0 in /usr/local/lib/python3.10/dist-packages (from tensorflow) (23.3.3)\n",
            "Requirement already satisfied: termcolor>=1.1.0 in /usr/local/lib/python3.10/dist-packages (from tensorflow) (2.3.0)\n",
            "Requirement already satisfied: astunparse>=1.6.0 in /usr/local/lib/python3.10/dist-packages (from tensorflow) (1.6.3)\n",
            "Requirement already satisfied: tensorflow-io-gcs-filesystem>=0.23.1 in /usr/local/lib/python3.10/dist-packages (from tensorflow) (0.32.0)\n",
            "Requirement already satisfied: protobuf!=4.21.0,!=4.21.1,!=4.21.2,!=4.21.3,!=4.21.4,!=4.21.5,<5.0.0dev,>=3.20.3 in /usr/local/lib/python3.10/dist-packages (from tensorflow) (3.20.3)\n",
            "Requirement already satisfied: wheel<1.0,>=0.23.0 in /usr/local/lib/python3.10/dist-packages (from astunparse>=1.6.0->tensorflow) (0.40.0)\n",
            "Requirement already satisfied: scipy>=1.7 in /usr/local/lib/python3.10/dist-packages (from jax>=0.3.15->tensorflow) (1.10.1)\n",
            "Requirement already satisfied: ml-dtypes>=0.0.3 in /usr/local/lib/python3.10/dist-packages (from jax>=0.3.15->tensorflow) (0.1.0)\n",
            "Requirement already satisfied: tensorboard-data-server<0.8.0,>=0.7.0 in /usr/local/lib/python3.10/dist-packages (from tensorboard<2.13,>=2.12->tensorflow) (0.7.0)\n",
            "Requirement already satisfied: requests<3,>=2.21.0 in /usr/local/lib/python3.10/dist-packages (from tensorboard<2.13,>=2.12->tensorflow) (2.27.1)\n",
            "Requirement already satisfied: tensorboard-plugin-wit>=1.6.0 in /usr/local/lib/python3.10/dist-packages (from tensorboard<2.13,>=2.12->tensorflow) (1.8.1)\n",
            "Requirement already satisfied: markdown>=2.6.8 in /usr/local/lib/python3.10/dist-packages (from tensorboard<2.13,>=2.12->tensorflow) (3.4.3)\n",
            "Requirement already satisfied: google-auth<3,>=1.6.3 in /usr/local/lib/python3.10/dist-packages (from tensorboard<2.13,>=2.12->tensorflow) (2.17.3)\n",
            "Requirement already satisfied: google-auth-oauthlib<1.1,>=0.5 in /usr/local/lib/python3.10/dist-packages (from tensorboard<2.13,>=2.12->tensorflow) (1.0.0)\n",
            "Requirement already satisfied: werkzeug>=1.0.1 in /usr/local/lib/python3.10/dist-packages (from tensorboard<2.13,>=2.12->tensorflow) (2.3.0)\n",
            "Requirement already satisfied: pyasn1-modules>=0.2.1 in /usr/local/lib/python3.10/dist-packages (from google-auth<3,>=1.6.3->tensorboard<2.13,>=2.12->tensorflow) (0.3.0)\n",
            "Requirement already satisfied: cachetools<6.0,>=2.0.0 in /usr/local/lib/python3.10/dist-packages (from google-auth<3,>=1.6.3->tensorboard<2.13,>=2.12->tensorflow) (5.3.0)\n",
            "Requirement already satisfied: rsa<5,>=3.1.4 in /usr/local/lib/python3.10/dist-packages (from google-auth<3,>=1.6.3->tensorboard<2.13,>=2.12->tensorflow) (4.9)\n",
            "Requirement already satisfied: requests-oauthlib>=0.7.0 in /usr/local/lib/python3.10/dist-packages (from google-auth-oauthlib<1.1,>=0.5->tensorboard<2.13,>=2.12->tensorflow) (1.3.1)\n",
            "Requirement already satisfied: urllib3<1.27,>=1.21.1 in /usr/local/lib/python3.10/dist-packages (from requests<3,>=2.21.0->tensorboard<2.13,>=2.12->tensorflow) (1.26.15)\n",
            "Requirement already satisfied: idna<4,>=2.5 in /usr/local/lib/python3.10/dist-packages (from requests<3,>=2.21.0->tensorboard<2.13,>=2.12->tensorflow) (3.4)\n",
            "Requirement already satisfied: charset-normalizer~=2.0.0 in /usr/local/lib/python3.10/dist-packages (from requests<3,>=2.21.0->tensorboard<2.13,>=2.12->tensorflow) (2.0.12)\n",
            "Requirement already satisfied: certifi>=2017.4.17 in /usr/local/lib/python3.10/dist-packages (from requests<3,>=2.21.0->tensorboard<2.13,>=2.12->tensorflow) (2022.12.7)\n",
            "Requirement already satisfied: MarkupSafe>=2.1.1 in /usr/local/lib/python3.10/dist-packages (from werkzeug>=1.0.1->tensorboard<2.13,>=2.12->tensorflow) (2.1.2)\n",
            "Requirement already satisfied: pyasn1<0.6.0,>=0.4.6 in /usr/local/lib/python3.10/dist-packages (from pyasn1-modules>=0.2.1->google-auth<3,>=1.6.3->tensorboard<2.13,>=2.12->tensorflow) (0.5.0)\n",
            "Requirement already satisfied: oauthlib>=3.0.0 in /usr/local/lib/python3.10/dist-packages (from requests-oauthlib>=0.7.0->google-auth-oauthlib<1.1,>=0.5->tensorboard<2.13,>=2.12->tensorflow) (3.2.2)\n",
            "Epoch 1/2\n",
            "176/176 [==============================] - 20s 71ms/step - loss: 1.9797 - accuracy: 0.2546 - val_loss: 1.8675 - val_accuracy: 0.2770\n",
            "Epoch 2/2\n",
            "176/176 [==============================] - 11s 63ms/step - loss: 1.7929 - accuracy: 0.3276 - val_loss: 1.7652 - val_accuracy: 0.3178\n",
            "Test loss: 1.7780033349990845\n",
            "Test accuracy: 0.33059999346733093\n"
          ]
        }
      ]
    }
  ]
}